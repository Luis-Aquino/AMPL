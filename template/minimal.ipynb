{
  "cells": [
    {
      "cell_type": "code",
      "execution_count": 16,
      "metadata": {
        "colab": {
          "base_uri": "https://localhost:8080/"
        },
        "id": "3xDtAc-Fa6An",
        "outputId": "26900c2c-9a1a-4e84-c8e4-5e424a447ba2"
      },
      "outputs": [
        {
          "output_type": "stream",
          "name": "stdout",
          "text": [
            "Licensed to AMPL Academic Community Edition License for <luis.eduardo@discente.ufg.br>.\n"
          ]
        }
      ],
      "source": [
        "!pip install -q amplpy pandas\n",
        "from amplpy import AMPL, tools, ampl_notebook\n",
        "ampl = ampl_notebook(\n",
        "    modules=[\"highs\", \"cbc\", \"gurobi\", \"cplex\"], # pick from over 20 modules including most commercial and open-source solvers\n",
        "    license_uuid=\"f4e3ec62-1cbe-418b-8272-3f52ad3c734a\", # your license UUID (e.g., free ampl.com/ce or ampl.com/courses licenses)\n",
        "    g=globals()) # instantiate AMPL object and register magics"
      ]
    },
    {
      "cell_type": "code",
      "execution_count": 17,
      "metadata": {
        "id": "--hXSdR5byDD"
      },
      "outputs": [],
      "source": [
        "%%ampl_eval\n",
        "var x1>=0;\n",
        "var x2>=0;\n",
        "minimize z: 2*x1+4.50*x2;\n",
        "subject to\n",
        "c1: 3*x1+40*x2>=25;\n",
        "c2: 20*x1+5*x2>=80;\n"
      ]
    },
    {
      "cell_type": "code",
      "execution_count": 18,
      "metadata": {
        "colab": {
          "base_uri": "https://localhost:8080/"
        },
        "id": "Qe4Vtg19cFCA",
        "outputId": "70c259ba-32a4-4c5c-9334-ac4710cd2c5b"
      },
      "outputs": [
        {
          "output_type": "stream",
          "name": "stdout",
          "text": [
            "HiGHS 1.10.0:   tech:outlev = 1\n",
            "\n",
            "AMPL MP initial flat model has 2 variables (0 integer, 0 binary);\n",
            "Objectives: 1 linear; \n",
            "Constraints:  2 linear;\n",
            "\n",
            "AMPL MP did not modify the model.\n",
            "\n",
            "\n",
            "Running HiGHS 1.10.0 (git hash: fd86653): Copyright (c) 2025 HiGHS under MIT licence terms\n",
            "LP   has 2 rows; 2 cols; 4 nonzeros\n",
            "Coefficient ranges:\n",
            "  Matrix [3e+00, 4e+01]\n",
            "  Cost   [2e+00, 4e+00]\n",
            "  Bound  [0e+00, 0e+00]\n",
            "  RHS    [2e+01, 8e+01]\n",
            "Presolving model\n",
            "2 rows, 2 cols, 4 nonzeros  0s\n",
            "2 rows, 2 cols, 4 nonzeros  0s\n",
            "Presolve : Reductions: rows 2(-0); columns 2(-0); elements 4(-0) - Not reduced\n",
            "Problem not reduced by presolve: solving the LP\n",
            "Using EKK dual simplex solver - serial\n",
            "  Iteration        Objective     Infeasibilities num(sum)\n",
            "          0     0.0000000000e+00 Pr: 2(105) 0s\n",
            "          2     9.3248407643e+00 Pr: 0(0) 0s\n",
            "Model status        : Optimal\n",
            "Simplex   iterations: 2\n",
            "Objective value     :  9.3248407643e+00\n",
            "Relative P-D gap    :  0.0000000000e+00\n",
            "HiGHS run time      :          0.00\n",
            "HiGHS 1.10.0: optimal solution; objective 9.324840764\n",
            "2 simplex iterations\n",
            "0 barrier iterations\n",
            "x1 = 3.9172\n",
            "x2 = 0.33121\n",
            "z = 9.32484\n",
            "\n"
          ]
        }
      ],
      "source": [
        "ampl.option[\"solver\"] = \"highs\"\n",
        "ampl.option[\"highs_options\"] = \"outlev=1\"\n",
        "ampl.solve()\n",
        "ampl.display('x1','x2','z')"
      ]
    },
    {
      "cell_type": "markdown",
      "metadata": {
        "id": "linTb4a3ijXV"
      },
      "source": [
        "[AMPL Website](https://ampl.com) | [AMPL Forum](https://discuss.ampl.com) | [AMPL Colab Examples](https://ampl.com/colab/) | [MO-Book](https://ampl.com/mo-book/) | [Streamlit Apps](https://ampl.com/streamlit/) | [Start Free Now](https://ampl.com/trial/) | [Follow us on LinkedIn!](https://www.linkedin.com/company/ampl)\n",
        "\n",
        "[![Hits](https://h.ampl.com/https://github.com/ampl/amplcolab/blob/master/template/minimal.ipynb)](https://colab.ampl.com)"
      ]
    }
  ],
  "metadata": {
    "colab": {
      "provenance": []
    },
    "kernelspec": {
      "display_name": "Python 3",
      "language": "python",
      "name": "python3"
    },
    "language_info": {
      "codemirror_mode": {
        "name": "ipython",
        "version": 3
      },
      "file_extension": ".py",
      "mimetype": "text/x-python",
      "name": "python",
      "nbconvert_exporter": "python",
      "pygments_lexer": "ipython3",
      "version": "3.6.9"
    },
    "vscode": {
      "interpreter": {
        "hash": "ee4198aac13dae9b6fccd443041680d99c2643c4956ef7c80ff6dcc0057cb523"
      }
    }
  },
  "nbformat": 4,
  "nbformat_minor": 0
}