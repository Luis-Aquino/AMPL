{
  "cells": [
    {
      "cell_type": "code",
      "execution_count": 1,
      "metadata": {
        "colab": {
          "base_uri": "https://localhost:8080/"
        },
        "id": "3xDtAc-Fa6An",
        "outputId": "8fb78fb9-0786-4356-db58-f88db33a2aa2"
      },
      "outputs": [
        {
          "output_type": "stream",
          "name": "stdout",
          "text": [
            "\u001b[2K   \u001b[90m━━━━━━━━━━━━━━━━━━━━━━━━━━━━━━━━━━━━━━━━\u001b[0m \u001b[32m5.7/5.7 MB\u001b[0m \u001b[31m39.2 MB/s\u001b[0m eta \u001b[36m0:00:00\u001b[0m\n",
            "\u001b[?25hLicensed to AMPL Academic Community Edition License for <luis.eduardo@discente.ufg.br>.\n"
          ]
        }
      ],
      "source": [
        "!pip install -q amplpy pandas\n",
        "from amplpy import AMPL, tools, ampl_notebook\n",
        "ampl = ampl_notebook(\n",
        "    modules=[\"highs\", \"cbc\", \"gurobi\", \"cplex\"], # pick from over 20 modules including most commercial and open-source solvers\n",
        "    license_uuid=\"f4e3ec62-1cbe-418b-8272-3f52ad3c734a\", # your license UUID (e.g., free ampl.com/ce or ampl.com/courses licenses)\n",
        "    g=globals()) # instantiate AMPL object and register magics"
      ]
    },
    {
      "cell_type": "code",
      "execution_count": 2,
      "metadata": {
        "id": "--hXSdR5byDD"
      },
      "outputs": [],
      "source": [
        "%%ampl_eval\n",
        "var x1>=0;\n",
        "var x2>=0;\n",
        "maximize z: 5*x1+4*x2;\n",
        "subject to\n",
        "c1: 6*x1+4*x2<=24;\n",
        "c2: x1+2*x2<=6;\n",
        "c3: -x1+x2<=1;\n",
        "c4: x2<=2;"
      ]
    },
    {
      "cell_type": "code",
      "execution_count": 3,
      "metadata": {
        "colab": {
          "base_uri": "https://localhost:8080/"
        },
        "id": "Qe4Vtg19cFCA",
        "outputId": "3f1f41a3-89b0-4158-eeb0-15d6dafc810a"
      },
      "outputs": [
        {
          "output_type": "stream",
          "name": "stdout",
          "text": [
            "cbc 2.10.12: \b\b\b\b\b\b\b\b\b\b\b\b\bcbc 2.10.12: optimal solution; objective 21\n",
            "0 simplex iterations\n",
            "z = 21\n",
            "x1 = 3\n",
            "x2 = 1.5\n",
            "\n"
          ]
        }
      ],
      "source": [
        "%%ampl_eval\n",
        "option solver cbc;\n",
        "solve;\n",
        "display z,x1,x2;"
      ]
    },
    {
      "cell_type": "markdown",
      "metadata": {
        "id": "linTb4a3ijXV"
      },
      "source": [
        "[AMPL Website](https://ampl.com) | [AMPL Forum](https://discuss.ampl.com) | [AMPL Colab Examples](https://ampl.com/colab/) | [MO-Book](https://ampl.com/mo-book/) | [Streamlit Apps](https://ampl.com/streamlit/) | [Start Free Now](https://ampl.com/trial/) | [Follow us on LinkedIn!](https://www.linkedin.com/company/ampl)\n",
        "\n",
        "[![Hits](https://h.ampl.com/https://github.com/ampl/amplcolab/blob/master/template/minimal.ipynb)](https://colab.ampl.com)"
      ]
    }
  ],
  "metadata": {
    "colab": {
      "provenance": []
    },
    "kernelspec": {
      "display_name": "Python 3",
      "language": "python",
      "name": "python3"
    },
    "language_info": {
      "codemirror_mode": {
        "name": "ipython",
        "version": 3
      },
      "file_extension": ".py",
      "mimetype": "text/x-python",
      "name": "python",
      "nbconvert_exporter": "python",
      "pygments_lexer": "ipython3",
      "version": "3.6.9"
    },
    "vscode": {
      "interpreter": {
        "hash": "ee4198aac13dae9b6fccd443041680d99c2643c4956ef7c80ff6dcc0057cb523"
      }
    }
  },
  "nbformat": 4,
  "nbformat_minor": 0
}